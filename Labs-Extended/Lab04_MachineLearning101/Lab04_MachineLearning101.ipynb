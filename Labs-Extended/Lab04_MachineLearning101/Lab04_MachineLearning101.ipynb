{
 "cells": [
  {
   "cell_type": "markdown",
   "metadata": {},
   "source": [
    "# Machine Learning 101\n",
    "\n",
    "In this notebook we are going to implement a machine learning model using one of the classifiers available in scikit learn.\n",
    "The idea is to train a model and send all the metrics to the machine learning workspace in the cloud.\n",
    "The notebook is divided in the following tasks:\n",
    "\n",
    "1. Install the Azure Machine Learning Workspace SDK\n",
    "2. Create a Machine Learning Workspace\n",
    "3. Create the Machine Learning Experiment\n",
    "4. Load data and prepared for training\n",
    "5. Train a Machine Learning model\n",
    "6. Register best Model"
   ]
  },
  {
   "cell_type": "markdown",
   "metadata": {},
   "source": [
    "## 1. Install the Azure Machine Learning Workspace SDK\n",
    "\n",
    "First of all we need to install the SDK in order to log and make the training in the cloud."
   ]
  },
  {
   "cell_type": "code",
   "metadata": {},
   "outputs": [],
   "source": []
  },
  {
   "cell_type": "markdown",
   "metadata": {},
   "source": [
    "## 2. Create an Azure Machine Learning Workspace\n",
    "\n",
    "In this step we have to create a machine learning workspace through the SDK.\n",
    "\n",
    "* Give a name to the workspace\n",
    "* Use the existing Resource group\n",
    "* Use the same location that you have created previously inside your workspace\n",
    "\n",
    "> *Note in case you have more than one subscription set previously as default the subscription in which you want to deploy the workspace.*\n",
    "> *Set the default subscription with the following command: `az account set --subscription SUBSCRIPTION_ID` *\n",
    "\n",
    "> *Hint: use the Azure Machine Learning SDK from [here](https://docs.microsoft.com/en-us/python/api/overview/azure/ml/intro?view=azure-ml-py)*"
   ]
  },
  {
   "cell_type": "code",
   "metadata": {},
   "outputs": [],
   "source": []
  },
  {
   "cell_type": "markdown",
   "metadata": {},
   "source": [
    "## 3. Create the Machine Learning Experiment\n",
    "\n",
    "Create a experiment to where we can log all the metrics and parameters from the training.\n",
    "\n",
    "1. Get the machine learning workspace"
   ]
  },
  {
   "cell_type": "code",
   "metadata": {},
   "outputs": [],
   "source": []
  },
  {
   "cell_type": "markdown",
   "metadata": {},
   "source": [
    "2. Create an experiment to log all the metrics and parameters"
   ]
  },
  {
   "cell_type": "code",
   "metadata": {},
   "outputs": [],
   "source": []
  },
  {
   "cell_type": "markdown",
   "metadata": {},
   "source": [
    "## 4. Load data and prepared for training\n",
    "\n",
    "Once we have processed all the image dataset and we have the images normalized we to create the training dataset needed for a machine learning algorithm.\n",
    "However, the traditional machine learning algorithms do not understand images, they only understand numbers.\n",
    "In this step we will create a flatten image dataset with only arrays of numbers and we will label them in other to use any of the supervised calssifier.\n",
    "\n",
    "1. Load all the files in an array:\n",
    "    * Flatten the images into an arrays of numbers.\n",
    "    * Create the labels of the dataset with the same number of elements.\n",
    "\n",
    "> *Hint: Use the Image module of Pillow and numpy to flatten the array.*"
   ]
  },
  {
   "cell_type": "code",
   "metadata": {},
   "outputs": [],
   "source": []
  },
  {
   "cell_type": "markdown",
   "metadata": {},
   "source": [
    "2. Divide the input dataset into train and test"
   ]
  },
  {
   "cell_type": "code",
   "metadata": {},
   "outputs": [],
   "source": []
  },
  {
   "cell_type": "markdown",
   "metadata": {},
   "source": [
    "## 5. Train a Machine Learning model\n",
    "\n",
    "We are finally here, we are going to train a custom model based on the classifcation task that we have at hands.\n",
    "To solve this step we are going to try with one of the models implemented in **scikit learn** athat are really helpful.\n",
    "Try to train this model and use different parameters to see how the metrics of the model changes.\n",
    "\n",
    "> *Hint: Use a classifier from scikit learn, from [here](https://scikit-learn.org/stable/supervised_learning.html#supervised-learning)*"
   ]
  },
  {
   "cell_type": "code",
   "metadata": {},
   "outputs": [],
   "source": []
  },
  {
   "cell_type": "markdown",
   "metadata": {},
   "source": [
    "## 6. Register best Model\n",
    "\n",
    "After finishing training is important to register the best model in the workspace.\n",
    "Then later, we can deploy this model referring to it."
   ]
  },
  {
   "cell_type": "code",
   "metadata": {},
   "outputs": [],
   "source": []
  }
 ],
 "metadata": {
  "file_extension": ".py",
  "kernelspec": {
   "display_name": "Python 3",
   "language": "python",
   "name": "python3"
  },
  "language_info": {
   "codemirror_mode": {
    "name": "ipython",
    "version": 3
   },
   "file_extension": ".py",
   "mimetype": "text/x-python",
   "name": "python",
   "nbconvert_exporter": "python",
   "pygments_lexer": "ipython3",
   "version": "3.6.9"
  },
  "mimetype": "text/x-python",
  "name": "python",
  "npconvert_exporter": "python",
  "pygments_lexer": "ipython3",
  "version": 3
 },
 "nbformat": 4,
 "nbformat_minor": 2
}