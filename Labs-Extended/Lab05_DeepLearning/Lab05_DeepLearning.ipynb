{
 "cells": [
  {
   "cell_type": "markdown",
   "metadata": {},
   "source": [
    "# Deep Learning Incoming\n",
    "\n",
    "Up until we have approach the classification from different points of view: azure built-in services and create your own machine learning model.\n",
    "However, we didn't use one of the most common technologies in modern Neural Networks and the answer is Deep Learning.\n",
    "\n",
    "With this approach, we are going to use Convolutional Neural Networks(CNN) to analyze directly the images and then classify using the categories avalaible.\n",
    "With this kind of models, we can extract automatically the features from the images and make CNN able to get a better result for classification.\n",
    "\n",
    "In this notebook, we are going to accomplish:\n",
    "\n",
    "1. Prepare a new experiment\n",
    "2. Load the data and prepare for training\n",
    "3. Create a Deep Learning model\n",
    "4. Train the model\n",
    "5. Register the CNN trained"
   ]
  },
  {
   "cell_type": "markdown",
   "metadata": {},
   "source": [
    "## 1. Prepare a new experiment\n",
    "\n",
    "Reuse the second step of Lab03 for this step.\n",
    "Remember to get the workspace you already created and then, create a new expirement."
   ]
  },
  {
   "cell_type": "code",
   "execution_count": null,
   "metadata": {},
   "outputs": [],
   "source": []
  },
  {
   "cell_type": "markdown",
   "metadata": {},
   "source": [
    "## 2. Load the data and prepare for training\n",
    "\n",
    "Now there is no need toflatten the matrix of the image, we can train it directly.\n",
    "For this purpose we are going to load the images and make sure the training dataset must meer the following features:\n",
    "\n",
    "* All the data must be a numpy array.\n",
    "* The labels to train it must be done using a following a one hot encoding approximation, see [here](https://hackernoon.com/what-is-one-hot-encoding-why-and-when-do-you-have-to-use-it-e3c6186d008f)\n",
    "* Don't forget to divide the dataset in train and test"
   ]
  },
  {
   "cell_type": "code",
   "execution_count": null,
   "metadata": {},
   "outputs": [],
   "source": []
  },
  {
   "cell_type": "markdown",
   "metadata": {},
   "source": [
    "## 3. Create a Deep Learning model\n",
    "\n",
    "After prototyping quickly with Scikit-Learn we realize that it is a good thing to use frameworks. \n",
    "Tensorflow is one of the most common frameworks for Deep Learning. \n",
    "However, sometimes it could be tedious, that is one of the reasons to use Keras which has Tensorflow as backend.\n",
    "\n",
    "For the design of the model we propose to use an architecture with the following layers:\n",
    "\n",
    "1. Input Layer (3 channel image input layer)\n",
    "2. Convolutional (2D)\n",
    "3. Max Pooling\n",
    "4. Convolutional (2D)\n",
    "5. Max Pooling\n",
    "6. Dense (Output layer)\n",
    "\n",
    "> *Hint: Use [Tensorflow](https://www.tensorflow.org/) with [Keras](https://keras.io/) in order to design the architecture of your model.*"
   ]
  },
  {
   "cell_type": "code",
   "execution_count": null,
   "metadata": {},
   "outputs": [],
   "source": []
  },
  {
   "cell_type": "markdown",
   "metadata": {},
   "source": [
    "## 4. Train the model\n",
    "\n",
    "Train the Convolutional neural network using the previous designed neural network.\n",
    "Now you only need to train you network architecture, but remember to log the accuracy and input parameters of your network to Azure Machine Learning Workspace.\n",
    "In addition, after training save your trained model."
   ]
  },
  {
   "cell_type": "code",
   "execution_count": null,
   "metadata": {},
   "outputs": [],
   "source": []
  },
  {
   "cell_type": "markdown",
   "metadata": {},
   "source": [
    "## 5. Register the CNN trained\n",
    "\n",
    "After the model is trained, we are going to register it in order to store it in the cloud."
   ]
  },
  {
   "cell_type": "code",
   "execution_count": null,
   "metadata": {},
   "outputs": [],
   "source": []
  }
 ],
 "metadata": {
  "language_info": {
   "name": "python",
   "codemirror_mode": {
    "name": "ipython",
    "version": 3
   }
  },
  "orig_nbformat": 2,
  "file_extension": ".py",
  "mimetype": "text/x-python",
  "name": "python",
  "npconvert_exporter": "python",
  "pygments_lexer": "ipython3",
  "version": 3
 },
 "nbformat": 4,
 "nbformat_minor": 2
}