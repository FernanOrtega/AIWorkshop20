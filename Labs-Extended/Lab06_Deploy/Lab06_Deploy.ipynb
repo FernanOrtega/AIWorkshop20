{
 "nbformat": 4,
 "nbformat_minor": 2,
 "metadata": {
  "language_info": {
   "name": "python",
   "codemirror_mode": {
    "name": "ipython",
    "version": 3
   }
  },
  "orig_nbformat": 2,
  "file_extension": ".py",
  "mimetype": "text/x-python",
  "name": "python",
  "npconvert_exporter": "python",
  "pygments_lexer": "ipython3",
  "version": 3
 },
 "cells": [
  {
   "cell_type": "markdown",
   "metadata": {},
   "outputs": [],
   "source": [
    "# Deploy your models in Azure\n",
    "\n",
    "We made it!! We are almost done but first we have to put into a webservice our trained model.\n",
    "In this Lab we are going to put into a webservice the model we have just already trained.\n",
    "In order to accomplish this task we have to:\n",
    "\n",
    "1. Create a scoring script\n",
    "2. Create Conda Environment\n",
    "3. Create container image\n",
    "4. Deploy into a webservice"
   ]
  },
  {
   "cell_type": "markdown",
   "metadata": {},
   "outputs": [],
   "source": [
    "## 1. Create scoring script\n",
    "\n",
    "First of all you need to create a scoring script that consists of:\n",
    "\n",
    "* Load the model.\n",
    "* Preprocess the images as the one used to trained (scale and normalize).\n",
    "* Predict the category of the equipment."
   ]
  },
  {
   "cell_type": "code",
   "metadata": {},
   "outputs": [],
   "source": []
  },
  {
   "cell_type": "markdown",
   "metadata": {},
   "outputs": [],
   "source": [
    "## 2. Create Conda environment\n",
    "\n",
    "Create a conda file with the environment packages to install inside the container."
   ]
  },
  {
   "cell_type": "code",
   "metadata": {},
   "outputs": [],
   "source": []
  },
  {
   "cell_type": "markdown",
   "metadata": {},
   "outputs": [],
   "source": [
    "## 3. Create Container Image\n",
    "\n",
    "In this step, we are going to create a container image with the model trained and installing the packeges from the conda file.\n",
    "In order to accomplish this step you will need to:\n",
    "\n",
    "* Log into Azure Machine Learning SDK."
   ]
  },
  {
   "cell_type": "code",
   "metadata": {},
   "outputs": [],
   "source": []
  },
  {
   "cell_type": "markdown",
   "metadata": {},
   "outputs": [],
   "source": [
    "* Get the model trained from the workspace."
   ]
  },
  {
   "cell_type": "code",
   "metadata": {},
   "outputs": [],
   "source": []
  },
  {
   "cell_type": "markdown",
   "metadata": {},
   "outputs": [],
   "source": [
    "* Create a docker images using the Azure Machine Learning SDK"
   ]
  },
  {
   "cell_type": "code",
   "metadata": {},
   "outputs": [],
   "source": []
  },
  {
   "cell_type": "markdown",
   "metadata": {},
   "outputs": [],
   "source": [
    "## 4. Deploy into a webservice\n",
    "\n",
    "After creating the image, it is necessary to deploy into a webservice.\n",
    "\n",
    "> *Note that you should use an ACI*"
   ]
  },
  {
   "cell_type": "code",
   "metadata": {},
   "outputs": [],
   "source": []
  },
  {
   "cell_type": "markdown",
   "metadata": {},
   "outputs": [],
   "source": [
    "Test your webservice with the request and an image."
   ]
  },
  {
   "cell_type": "code",
   "metadata": {},
   "outputs": [],
   "source": []
  }
 ]
}