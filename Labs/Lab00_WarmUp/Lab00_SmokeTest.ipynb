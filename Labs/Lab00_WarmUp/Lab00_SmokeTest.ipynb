{
 "cells": [
  {
   "cell_type": "markdown",
   "metadata": {},
   "source": [
    "### Print version of the system"
   ]
  },
  {
   "cell_type": "code",
   "execution_count": 1,
   "metadata": {},
   "outputs": [
    {
     "data": {
      "text/plain": [
       "'3.6.9 |Anaconda, Inc.| (default, Jul 30 2019, 14:00:49) [MSC v.1915 64 bit (AMD64)]'"
      ]
     },
     "execution_count": 1,
     "metadata": {},
     "output_type": "execute_result"
    }
   ],
   "source": [
    "import sys\n",
    "sys. version"
   ]
  },
  {
   "cell_type": "markdown",
   "metadata": {},
   "source": [
    "### List the python packages and the pip version"
   ]
  },
  {
   "cell_type": "code",
   "execution_count": 2,
   "metadata": {},
   "outputs": [
    {
     "name": "stdout",
     "output_type": "stream",
     "text": [
      "astroid==2.2.5\n",
      "certifi==2020.4.5.1\n",
      "colorama==0.4.1\n",
      "isort==4.3.15\n",
      "jellyfish==0.7.1\n",
      "joblib==0.13.2\n",
      "lazy-object-proxy==1.3.1\n",
      "mccabe==0.6.1\n",
      "pylint==2.3.1\n",
      "python-dateutil==2.8.0\n",
      "pytz==2019.1\n",
      "recordlinkage==0.13.2\n",
      "scikit-learn==0.21.2\n",
      "scipy==1.3.0\n",
      "six==1.12.0\n",
      "typed-ast==1.3.1\n",
      "wincertstore==0.2\n",
      "wrapt==1.11.1\n",
      "pip 20.0.2 from C:\\Users\\Fernando\\Anaconda3\\envs\\aiworkshop20\\lib\\site-packages\\pip (python 3.6)\n",
      "\n"
     ]
    }
   ],
   "source": [
    "! pip freeze\n",
    "! pip --version"
   ]
  },
  {
   "cell_type": "code",
   "execution_count": null,
   "metadata": {},
   "outputs": [],
   "source": []
  }
 ],
 "metadata": {
  "kernelspec": {
   "display_name": "Python 3",
   "language": "python",
   "name": "python3"
  },
  "language_info": {
   "codemirror_mode": {
    "name": "ipython",
    "version": 3
   },
   "file_extension": ".py",
   "mimetype": "text/x-python",
   "name": "python",
   "nbconvert_exporter": "python",
   "pygments_lexer": "ipython3",
   "version": "3.6.9"
  }
 },
 "nbformat": 4,
 "nbformat_minor": 2
}
