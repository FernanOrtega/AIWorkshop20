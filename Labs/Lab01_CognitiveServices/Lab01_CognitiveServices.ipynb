{
 "nbformat": 4,
 "nbformat_minor": 2,
 "metadata": {
  "language_info": {
   "name": "python",
   "codemirror_mode": {
    "name": "ipython",
    "version": 3
   }
  },
  "orig_nbformat": 2,
  "file_extension": ".py",
  "mimetype": "text/x-python",
  "name": "python",
  "npconvert_exporter": "python",
  "pygments_lexer": "ipython3",
  "version": 3
 },
 "cells": [
  {
   "cell_type": "markdown",
   "metadata": {},
   "outputs": [],
   "source": [
    "# Using cognitive services\n",
    "\n",
    "In this lab, we are going to use cognitive services to explore the data that our friends prepared for us.\n",
    "We are going to learn how to use Azure Cognitive Services, more precisely the computer vision API.\n",
    "\n",
    "It is a helpful tool when you don't have time or you want to enrich your data with some important metadata.\n",
    "In addition, if the objects are to general it could be a good approach to select them.\n",
    "We have divided the lab in two:\n",
    "1. **Data Extraction** to unpack and see what information we had\n",
    "2. **Computer Vision** to send the images to the API through the python SDK.\n",
    "\n",
    "> Remember if you need to install any library used the pip command:\n",
    "> ```! pip install -y PYTHON_MODULE```"
   ]
  },
  {
   "cell_type": "markdown",
   "metadata": {},
   "outputs": [],
   "source": [
    "# 1. Data Extraction\n",
    "\n",
    "First things first, it is necessary to unpack the zip file that we were provided.\n",
    "\n",
    "> *Hint*: Use the library [zipfile]() for this task"
   ]
  },
  {
   "cell_type": "code",
   "metadata": {},
   "outputs": [],
   "source": []
  },
  {
   "cell_type": "markdown",
   "metadata": {},
   "outputs": [],
   "source": [
    "Now we need to obtain the number of elements per category that our friends had in their storage facility.\n",
    "In addition, this will help for further tasks in the future.\n",
    "\n",
    ">*Hint*: Use the library [glob]() for this task"
   ]
  },
  {
   "cell_type": "code",
   "metadata": {},
   "outputs": [],
   "source": []
  },
  {
   "cell_type": "markdown",
   "metadata": {},
   "outputs": [],
   "source": [
    "Print the first image of each of the categories, sou you could see the different objects that needed to be classified.\n",
    "In addition, this images will be used later in order to inspect each category.\n",
    "\n",
    "> *Hint*: Use [matplotlib](https://matplotlib.org/) and [pillow](https://pillow.readthedocs.io/en/stable/) to see the images"
   ]
  },
  {
   "cell_type": "code",
   "metadata": {},
   "outputs": [],
   "source": []
  },
  {
   "cell_type": "markdown",
   "metadata": {},
   "outputs": [],
   "source": [
    "## 2. Cognitive Service\n",
    "\n",
    "After having a glance to each of the categories and the different objects of the dataset, now it is time to see what the different Azure Cognitive Services gave us.\n",
    "We are going to explore the output of the API creating a function and see if the results obtained are enough.\n",
    "\n",
    "1. **Create a client and authenticate** to the already deployed Cognitive Services.\n",
    "\n",
    "> Remember to retrieve the endpoint and the key from the Azure Cognitive Services\n",
    "\n",
    "![CogServKey](https://docs.microsoft.com/es-es/azure/cognitive-services/media/cognitive-services-apis-create-account/get-cog-serv-keys.png)"
   ]
  },
  {
   "cell_type": "code",
   "metadata": {},
   "outputs": [],
   "source": []
  },
  {
   "cell_type": "markdown",
   "metadata": {},
   "outputs": [],
   "source": [
    "2. Create a function to ask the information needed to the Computer Vision API\n",
    "\n",
    "> *Hint*: Use the [Quickstart: Computer Vision client library for Python](https://docs.microsoft.com/en-us/azure/cognitive-services/computer-vision/quickstarts-sdk/python-sdk) to see how the Python SDK works."
   ]
  },
  {
   "cell_type": "code",
   "metadata": {},
   "outputs": [],
   "source": []
  }
 ]
}