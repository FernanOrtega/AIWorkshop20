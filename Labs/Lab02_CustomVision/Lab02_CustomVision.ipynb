{
 "nbformat": 4,
 "nbformat_minor": 2,
 "metadata": {
  "language_info": {
   "name": "python",
   "codemirror_mode": {
    "name": "ipython",
    "version": 3
   }
  },
  "orig_nbformat": 2,
  "file_extension": ".py",
  "mimetype": "text/x-python",
  "name": "python",
  "npconvert_exporter": "python",
  "pygments_lexer": "ipython3",
  "version": 3
 },
 "cells": [
  {
   "cell_type": "markdown",
   "metadata": {},
   "outputs": [],
   "source": [
    "# Create a custom Model with Custom Vision\n",
    "\n",
    "In this notebook we are going to create a custom model in order to separate the different types of elements that we have detected in the storage.\n",
    "The notebook is divided in the following tasks:\n",
    "\n",
    "1. Install Custom Vision SDK\n",
    "2. Authenticate within the Custom Vision Service\n",
    "3. Create a project and tags\n",
    "4. Upload and tag the images\n",
    "5. Train the classifier\n",
    "6. Publish the model and use the predicition endpoint"
   ]
  },
  {
   "cell_type": "markdown",
   "metadata": {},
   "outputs": [],
   "source": [
    "## 1. Install Custom Vision SDK\n",
    "\n",
    "First of all make sure that you have installed the python SDK."
   ]
  },
  {
   "cell_type": "code",
   "metadata": {},
   "outputs": [],
   "source": []
  },
  {
   "cell_type": "markdown",
   "metadata": {},
   "outputs": [],
   "source": [
    "## 2. Authenticate within the Custom Vision Service\n",
    " \n",
    "Now it is necessary to retrieve the keys and endpoint of the Azure Cognitive Services.\n",
    "All the information about the SDK is in [here](https://docs.microsoft.com/en-gb/python/api/overview/azure/cognitiveservices/customvision?view=azure-python)\n",
    "\n",
    "You can retrive them as indicated in `Lab01_CognitiveServices.ipynb` or you can:\n",
    "\n",
    "1. Log into Custom Vision Service from [here](https://www.customvision.ai/)\n",
    "2. Then you can click on the **gear icon** in the upper right.\n",
    "3. Select the name of the **Cognitive Service** already deployed and take the key required.</br>\n",
    " \n",
    "![CustomVision](https://docs.microsoft.com/en-us/azure/cognitive-services/custom-vision-service/media/csharp-tutorial/training-prediction-keys.png)\n",
    " \n",
    "> *Note that you only have the all in one cognitive services so you use the same key for prediction and training.*"
   ]
  },
  {
   "cell_type": "code",
   "metadata": {},
   "outputs": [],
   "source": []
  },
  {
   "cell_type": "markdown",
   "metadata": {},
   "outputs": [],
   "source": [
    "## 3. Create a project and tags\n",
    " \n",
    "Now we need to specified all the options of the project and after that create the tags of the categories related with the images that we want to classify.\n",
    "\n",
    "> *Hint: use the documentation of the [SDK](https://docs.microsoft.com/en-gb/python/api/overview/azure/cognitiveservices/customvision?view=azure-python) to get the correct values.*"
   ]
  },
  {
   "cell_type": "code",
   "metadata": {},
   "outputs": [],
   "source": []
  },
  {
   "cell_type": "markdown",
   "metadata": {},
   "outputs": [],
   "source": [
    "## 4. Upload and tag the images\n",
    "\n",
    "Once we have a category defined per each of the objects, we need some photos to be uploaded in order to create the classifier model.\n",
    "\n",
    "Upload around *30 photos* per each category."
   ]
  },
  {
   "cell_type": "code",
   "metadata": {},
   "outputs": [],
   "source": []
  },
  {
   "cell_type": "markdown",
   "metadata": {},
   "outputs": [],
   "source": [
    "## 5. Train the classifier\n",
    "\n",
    "Now you only have to do one thing, push the button to train the model and see what happens with it."
   ]
  },
  {
   "cell_type": "code",
   "metadata": {},
   "outputs": [],
   "source": []
  },
  {
   "cell_type": "markdown",
   "metadata": {},
   "outputs": [],
   "source": [
    "## 6. Publish the model and use the predicition endpoint\n",
    "\n",
    "After training the model we only need to consume it and make any predicition with any of the images that we have and we didn't use for the training.\n",
    "\n",
    "1. Publish the trained model."
   ]
  },
  {
   "cell_type": "code",
   "metadata": {},
   "outputs": [],
   "source": []
  },
  {
   "cell_type": "markdown",
   "metadata": {},
   "outputs": [],
   "source": [
    "2. Use the prediction endpoint with some test images that have not being used during the training."
   ]
  },
  {
   "cell_type": "code",
   "metadata": {},
   "outputs": [],
   "source": []
  },
  {
   "cell_type": "markdown",
   "metadata": {},
   "outputs": [],
   "source": [
    "### What happened with any image from the internet?\n",
    "\n",
    "Test with any random photo of mountain gear."
   ]
  },
  {
   "cell_type": "code",
   "metadata": {},
   "outputs": [],
   "source": []
  }
 ]
}