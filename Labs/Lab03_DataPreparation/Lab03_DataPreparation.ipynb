{
 "nbformat": 4,
 "nbformat_minor": 2,
 "metadata": {
  "language_info": {
   "name": "python",
   "codemirror_mode": {
    "name": "ipython",
    "version": 3
   }
  },
  "orig_nbformat": 2,
  "file_extension": ".py",
  "mimetype": "text/x-python",
  "name": "python",
  "npconvert_exporter": "python",
  "pygments_lexer": "ipython3",
  "version": 3
 },
 "cells": [
  {
   "cell_type": "markdown",
   "metadata": {},
   "outputs": [],
   "source": [
    "# Data preparation\n",
    "\n",
    "In this notebook we are going to create a data preprocessing step to resize and normalize the pixel intensity of each image of the dataset. The notebook is divided in the following tasks:\n",
    "\n",
    "1. Data exploration\n",
    "2. Image resizing\n",
    "3. Image Normalization\n",
    "4. Preprocess and save the whole dataset"
   ]
  },
  {
   "cell_type": "markdown",
   "metadata": {},
   "outputs": [],
   "source": [
    "## 1. Data preparation\n",
    "\n",
    "In this step we are going to explore the data that we have.\n",
    "First of all get a sample of each category."
   ]
  },
  {
   "cell_type": "code",
   "metadata": {},
   "outputs": [],
   "source": []
  },
  {
   "cell_type": "markdown",
   "metadata": {},
   "outputs": [],
   "source": [
    "Now, it is necessary to see each image and how they look like in order to apply the best correction transformation to each of them.\n",
    "Use the visualizing function used previouly if you developed one."
   ]
  },
  {
   "cell_type": "code",
   "metadata": {},
   "outputs": [],
   "source": []
  },
  {
   "cell_type": "markdown",
   "metadata": {},
   "outputs": [],
   "source": [
    "## 2. Image resizing\n",
    "\n",
    "Create a function to resize images.\n",
    "This function should pad the height and width of the original image so it could not be make a rare transformation.\n",
    "\n",
    "> *Note that if you transform directly the size it will stretch the image*\n",
    "\n",
    "> *Hint: Use the Pillow library for size transformation (e.g. thumbnail function)*"
   ]
  },
  {
   "cell_type": "code",
   "metadata": {},
   "outputs": [],
   "source": []
  },
  {
   "cell_type": "markdown",
   "metadata": {},
   "outputs": [],
   "source": [
    "Plot the original and scaled image to compare them."
   ]
  },
  {
   "cell_type": "code",
   "metadata": {},
   "outputs": [],
   "source": []
  },
  {
   "cell_type": "markdown",
   "metadata": {},
   "outputs": [],
   "source": [
    "## 3. Image Normalization\n",
    "\n",
    "Using the previous function, build a function that can be able to scale the image and to equalize the intensity of each pixel.\n",
    "\n",
    "> *Hint: Use the ImageOps module of Pillow.*"
   ]
  },
  {
   "cell_type": "code",
   "metadata": {},
   "outputs": [],
   "source": []
  },
  {
   "cell_type": "markdown",
   "metadata": {},
   "outputs": [],
   "source": [
    "Draw a comparison of the image and its histogram from:\n",
    "\n",
    "* Original image\n",
    "* Scaled one\n",
    "* Equalized one"
   ]
  },
  {
   "cell_type": "code",
   "metadata": {},
   "outputs": [],
   "source": []
  },
  {
   "cell_type": "markdown",
   "metadata": {},
   "outputs": [],
   "source": [
    "## 4. Preprocess and save the whole dataset\n",
    "\n",
    "Finally in this step we will process the entire dataset and save the figures generated to file."
   ]
  },
  {
   "cell_type": "code",
   "metadata": {},
   "outputs": [],
   "source": []
  }
 ]
}