{
 "cells": [
  {
   "cell_type": "markdown",
   "metadata": {},
   "source": [
    "# Training Models\n",
    "\n",
    "In this notebook we are going to implement a machine learning model using one of the classifiers available in scikit learn.\n",
    "The idea is to train a model and send all the metrics to the machine learning workspace in the cloud.\n",
    "The notebook is divided in the following tasks:\n",
    "\n",
    "1. Install the Azure Machine Learning Workspace SDK\n",
    "2. Create a Machine Learning Workspace\n",
    "3. Create the Machine Learning Experiment\n",
    "4. Train a Random Forest classifier with Scikit-learn\n",
    "5. Train a Deep Learning classifier with Tensorflow\n",
    "6. Register best Model"
   ]
  },
  {
   "cell_type": "markdown",
   "metadata": {},
   "source": [
    "## 1. Install the Azure Machine Learning Workspace SDK\n",
    "\n",
    "First of all we need to install the SDK in order to log and make the training in the cloud."
   ]
  },
  {
   "cell_type": "code",
   "metadata": {},
   "outputs": [],
   "source": []
  },
  {
   "cell_type": "markdown",
   "metadata": {},
   "source": [
    "## 2. Create an Azure Machine Learning Workspace\n",
    "\n",
    "In this step we have to create a machine learning workspace through the SDK.\n",
    "\n",
    "* Give a name to the workspace\n",
    "* Use the existing Resource group\n",
    "* Use the same location that you have created previously inside your workspace\n",
    "\n",
    "> *Note in case you have more than one subscription set previously as default the subscription in which you want to deploy the workspace.*\n",
    "> *Set the default subscription with the following command: `az account set --subscription SUBSCRIPTION_ID` *\n",
    "\n",
    "> *Hint: use the Azure Machine Learning SDK from [here](https://docs.microsoft.com/en-us/python/api/overview/azure/ml/intro?view=azure-ml-py)*"
   ]
  },
  {
   "cell_type": "code",
   "metadata": {},
   "outputs": [],
   "source": []
  },
  {
   "cell_type": "markdown",
   "metadata": {},
   "source": [
    "## 3. Create the Machine Learning Experiment\n",
    "\n",
    "Create a experiment to where we can log all the metrics and parameters from the training.\n",
    "\n",
    "1. Get the machine learning workspace"
   ]
  },
  {
   "cell_type": "code",
   "metadata": {},
   "outputs": [],
   "source": []
  },
  {
   "cell_type": "markdown",
   "metadata": {},
   "source": [
    "2. Create an experiment to log all the metrics and parameters"
   ]
  },
  {
   "cell_type": "markdown",
   "metadata": {},
   "source": [
    "## 4. Train a Random Forest classifier with Scikit-learn\n",
    "First, let's implement the Random Forest classifier."
   ]
  },
  {
   "cell_type": "markdown",
   "metadata": {},
   "source": [
    "### 1. Load data and prepare for training\n",
    "\n",
    "Once we have processed all the image dataset and we have the images normalized we can create the training dataset needed for a machine learning algorithm.\n",
    "However, the traditional machine learning algorithms do not understand images, they only understand numbers.\n",
    "In this step we will create a flatten image dataset with only arrays of numbers and we will label them in other to use any of the supervised calssifier.\n",
    "\n",
    "1. Load all the files in an array:\n",
    "    * Flatten the images into an arrays of numbers.\n",
    "    * Create the labels of the dataset with the same number of elements.\n",
    "\n",
    "> *Hint: Use the Image module of Pillow and numpy to flatten the array.*"
   ]
  },
  {
   "cell_type": "code",
   "metadata": {},
   "outputs": [],
   "source": []
  },
  {
   "cell_type": "markdown",
   "metadata": {},
   "source": [
    "2. Divide the input dataset into train and test"
   ]
  },
  {
   "cell_type": "code",
   "metadata": {},
   "outputs": [],
   "source": []
  },
  {
   "cell_type": "markdown",
   "metadata": {},
   "source": [
    "### 2. Train the model\n",
    "\n",
    "We are finally here, we are going to train a custom model based on the classifcation task that we have at hands.\n",
    "To solve this step we are going to try with one of the models implemented in **scikit learn** athat are really helpful.\n",
    "Try to train this model and use different parameters to see how the metrics of the model changes.\n",
    "\n",
    "> *Hint: Use a classifier from scikit learn, from [here](https://scikit-learn.org/stable/supervised_learning.html#supervised-learning)*"
   ]
  },
  {
   "cell_type": "code",
   "metadata": {},
   "outputs": [],
   "source": []
  },
  {
   "cell_type": "markdown",
   "metadata": {},
   "source": [
    "## 5 Train a CNNs model with Tensorflow\n",
    "With this approach, we are going to use Convolutional Neural Networks(CNNs) to analyze directly the images and then classify using the available categories.\n",
    "With this kind of models, we can extract automatically the features from the images and make CNN able to get a better result for classification."
   ]
  },
  {
   "cell_type": "markdown",
   "metadata": {},
   "source": [
    "### 1. Prepare the data for training\n",
    "Now there is no need to flatten the matrix of the image, we can train with it.\n",
    "For this purpose we are going to load the images and ensure training dataset fullfills the following:\n",
    "\n",
    "* All the data must be a numpy array.\n",
    "* The labels to train it must be done using a following a one hot encoding approximation, see [here](https://hackernoon.com/what-is-one-hot-encoding-why-and-when-do-you-have-to-use-it-e3c6186d008f)\n",
    "* Don't forget to divide the dataset in train and test"
   ]
  },
  {
   "cell_type": "code",
   "execution_count": null,
   "metadata": {},
   "outputs": [],
   "source": []
  },
  {
   "cell_type": "markdown",
   "metadata": {},
   "source": [
    "### 2. Create the model\n",
    "After prototyping quickly with Scikit-Learn we realize that it is a good thing to use frameworks. \n",
    "Tensorflow is one of the most common frameworks for Deep Learning. \n",
    "However, sometimes it could be tedious, that is one of the reasons to use Keras which has Tensorflow as backend.\n",
    "\n",
    "For the design of the model we propose to use an architecture with the following layers:\n",
    "\n",
    "1. Input Layer (3 channel image input layer)\n",
    "2. Convolutional (2D)\n",
    "3. Max Pooling\n",
    "4. Convolutional (2D)\n",
    "5. Max Pooling\n",
    "6. Dense (Output layer)\n",
    "\n",
    "> *Hint: Use [Tensorflow](https://www.tensorflow.org/) with [Keras](https://keras.io/) in order to design the architecture of your model.*"
   ]
  },
  {
   "cell_type": "code",
   "execution_count": null,
   "metadata": {},
   "outputs": [],
   "source": []
  },
  {
   "cell_type": "markdown",
   "metadata": {},
   "source": [
    "### 3. Train the model\n",
    "\n",
    "Train the Convolutional neural network using the previous designed neural network.\n",
    "Now you only need to train you network architecture, but remember to log the accuracy and input parameters of your network to Azure Machine Learning Workspace.\n",
    "In addition, after training save your trained model."
   ]
  },
  {
   "cell_type": "code",
   "execution_count": null,
   "metadata": {},
   "outputs": [],
   "source": []
  },
  {
   "cell_type": "markdown",
   "metadata": {},
   "source": [
    "## 6. Register best Model\n",
    "\n",
    "After finishing training is important to register the best model in the workspace.\n",
    "Then later, we can deploy this model referring to it."
   ]
  },
  {
   "cell_type": "code",
   "metadata": {},
   "outputs": [],
   "source": []
  }
 ],
 "metadata": {
  "file_extension": ".py",
  "kernelspec": {
   "display_name": "Python 3",
   "language": "python",
   "name": "python3"
  },
  "language_info": {
   "codemirror_mode": {
    "name": "ipython",
    "version": 3
   },
   "file_extension": ".py",
   "mimetype": "text/x-python",
   "name": "python",
   "nbconvert_exporter": "python",
   "pygments_lexer": "ipython3",
   "version": "3.6.9"
  },
  "mimetype": "text/x-python",
  "name": "python",
  "npconvert_exporter": "python",
  "pygments_lexer": "ipython3",
  "version": 3
 },
 "nbformat": 4,
 "nbformat_minor": 2
}